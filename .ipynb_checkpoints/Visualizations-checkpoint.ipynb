{
 "cells": [
  {
   "cell_type": "code",
   "execution_count": 1,
   "metadata": {},
   "outputs": [],
   "source": [
    "import numpy as np\n",
    "import pandas as pd\n",
    "import math\n",
    "from collections import deque\n",
    "from os import listdir\n",
    "from os.path import isfile, join\n",
    "from helpers import *"
   ]
  },
  {
   "cell_type": "code",
   "execution_count": 5,
   "metadata": {},
   "outputs": [],
   "source": [
    "mypath = 'eric_jh_data/'\n",
    "countries = sorted(['Australia', 'Japan', 'China'])\n",
    "fx_dict = {'Australia':('eric_jh_data/Forex/AUD_USD_new.csv',0),\n",
    "           'Japan':('eric_jh_data/Forex/USD_JPY_new.csv',1),\n",
    "           'China':('eric_jh_data/Forex/USD_HKD_new.csv',1)}\n",
    "\n",
    "list_pairs_tot = []\n",
    "for country in countries:\n",
    "    countrypath = mypath + country\n",
    "    adr_names =  [f for f in listdir(countrypath) if not isfile(join(countrypath, f))] #grab all adr names of the country\n",
    "    for adr in sorted(adr_names):\n",
    "        list_pairs_tot.append((country, adr))"
   ]
  },
  {
   "cell_type": "code",
   "execution_count": 4,
   "metadata": {},
   "outputs": [],
   "source": [
    "# Pairs we have chosen to trade\n",
    "list_pairs = [(\"Australia\", \"MESO_MSB\"),\n",
    "               (\"Australia\", \"IMMP_IMM\"),\n",
    "               (\"Australia\", \"PLL_PLL\"),\n",
    "               (\"Australia\", \"KZIA_KZA\"),\n",
    "               (\"Australia\", \"IMRN_IMC\"),\n",
    "               (\"Japan\", \"SMFG_8316\"), \n",
    "               (\"Japan\", \"IX_8591\"),\n",
    "               (\"Japan\", \"TM_7203\"),\n",
    "               (\"Japan\", \"MFG_8411\"),\n",
    "               (\"China\", \"BGNE_6160\"), \n",
    "               (\"China\", \"SNP_386\"), \n",
    "               (\"China\", \"HNP_902\"), \n",
    "               (\"China\", \"CEA_670\"),\n",
    "               (\"China\", \"ACH_2600\")]"
   ]
  },
  {
   "cell_type": "code",
   "execution_count": 8,
   "metadata": {},
   "outputs": [],
   "source": [
    "list_pairs_aus = [i for i in list_pairs if i[0][0] == \"A\"]\n",
    "list_pairs_chi = [i for i in list_pairs if i[0][0] == \"C\"]\n",
    "list_pairs_jap = [i for i in list_pairs if i[0][0] == \"J\"]"
   ]
  },
  {
   "cell_type": "markdown",
   "metadata": {},
   "source": [
    "# Visualizing Variants\n",
    "\n",
    "#### Want to see the difference in results for each of the variants. \n",
    "\n",
    "Take the pair with the highest average hit ratio among the four variants. Plot portfolio value over the entire period for each of the four variants on the same graph. Then, for each of the variants, plot the stock + adr, and when we buy / sell."
   ]
  },
  {
   "cell_type": "markdown",
   "metadata": {},
   "source": [
    "# Visualizing PnL\n",
    "\n",
    "#### Want to see final results with best hyperparameters\n",
    "\n",
    "Plot IS portfolio value for the best hyperparameters, as well as the OOS results and Stress Testing results with S&P500 as benchmark."
   ]
  },
  {
   "cell_type": "markdown",
   "metadata": {},
   "source": [
    "# Visualize Portfolio Allocation\n",
    "\n",
    "#### Want to see the differences in each of the countries\n",
    "\n",
    "Plot the portfolio value for each of the three countries during IS and OOS on the same graph."
   ]
  },
  {
   "cell_type": "markdown",
   "metadata": {},
   "source": [
    "# Visualize Risk\n",
    "\n",
    "#### Want to see VaR\n",
    "\n",
    "Plot distributions of daily returns over IS and OOS. Highlight the VaR."
   ]
  },
  {
   "cell_type": "markdown",
   "metadata": {},
   "source": []
  }
 ],
 "metadata": {
  "kernelspec": {
   "display_name": "Python 3",
   "language": "python",
   "name": "python3"
  },
  "language_info": {
   "codemirror_mode": {
    "name": "ipython",
    "version": 3
   },
   "file_extension": ".py",
   "mimetype": "text/x-python",
   "name": "python",
   "nbconvert_exporter": "python",
   "pygments_lexer": "ipython3",
   "version": "3.7.6"
  }
 },
 "nbformat": 4,
 "nbformat_minor": 4
}

{
 "cells": [
  {
   "cell_type": "code",
   "execution_count": 32,
   "metadata": {},
   "outputs": [
    {
     "data": {
      "text/plain": [
       "<IB connected to 127.0.0.1:7497 clientId=2>"
      ]
     },
     "execution_count": 32,
     "metadata": {},
     "output_type": "execute_result"
    }
   ],
   "source": [
    "from ib_insync import *\n",
    "util.startLoop()\n",
    "\n",
    "\n",
    "ib = IB()\n",
    "ib.connect('127.0.0.1', 7497, clientId=2)\n"
   ]
  },
  {
   "cell_type": "code",
   "execution_count": 141,
   "metadata": {},
   "outputs": [
    {
     "name": "stdout",
     "output_type": "stream",
     "text": [
      "Trade(contract=Stock(conId=76792991, symbol='TSLA', exchange='SMART', primaryExchange='NASDAQ', currency='USD', localSymbol='TSLA', tradingClass='NMS'), order=LimitOrder(orderId=63, clientId=2, action='BUY', totalQuantity=1, lmtPrice=1), orderStatus=OrderStatus(orderId=63, status='PendingSubmit', filled=0, remaining=0, avgFillPrice=0.0, permId=0, parentId=0, lastFillPrice=0.0, clientId=0, whyHeld='', mktCapPrice=0.0), fills=[], log=[TradeLogEntry(time=datetime.datetime(2021, 4, 23, 1, 53, 10, 933879, tzinfo=datetime.timezone.utc), status='PendingSubmit', message='')])\n",
      "Update in 63\n",
      "Update in order 63\n",
      "trade.orderStatus.status\n",
      "Update in order 63\n",
      "PreSubmitted\n",
      "Update in order 63\n",
      "PreSubmitted\n",
      "Update in order 63\n",
      "PreSubmitted\n",
      "Update in order 63\n",
      "PreSubmitted\n",
      "Update in order 63\n",
      "PreSubmitted\n",
      "Update in order 63\n",
      "PreSubmitted\n",
      "Update in order 63\n",
      "PreSubmitted\n",
      "Update in order 63\n",
      "PreSubmitted\n"
     ]
    }
   ],
   "source": [
    "order_records = {}\n",
    "\n",
    "aus_adr_underlying_pairs = [\n",
    "    [\"ATHE\", \"ATH\"],[\"GENE\", \"GTG\"],[\"IMMP\", \"IMM\"],[\"IMRN\",\"IMC\"],[\"JHX\", \"JHX\"],[\"KZIA\", \"KZA\"],\n",
    "    [\"MESO\",\"MSB\"],[\"PLL\", \"PLL\"],[\"WBK\",\"WBC\"]\n",
    "]\n",
    "\n",
    "hk_adr_underlying_pairs = [\n",
    "    [\"ACH\", \"2600\"],[\"BGNE\", \"6160\"],[\"CEA\",\"670\"],[\"HNP\", \"902\"],[\"LFC\", \"2628\"],[\"PTR\", \"857\"],\n",
    "    [\"SHI\", \"338\"],[\"SNP\",\"386\"],[\"ZNH\", \"1055\"]\n",
    "]\n",
    "\n",
    "jpn_adr_underlying_pairs = [\n",
    "    [\"CAJ\", \"7751\"],[\"HMC\",\"7267\"],[\"IX\",\"8591\"],[\"MFG\",\"8411\"],[\"MUFG\",\"8306\"],[\"NMR\",\"8604\"],\n",
    "    [\"SMFG\",\"8316\"],[\"SONY\",\"6758\"],[\"TAK\", \"4502\"],[\"TM\", \"7203\"]\n",
    "]\n",
    "\n",
    "country_info = {\n",
    "    \"Australia\":{\"Currency\": \"AUD\", \n",
    "                \"Exchange\": \"SMART\",\n",
    "                \"Pairs\": aus_adr_underlying_pairs},\n",
    "    \n",
    "    \"Japan\":{\"Currency\": \"JPY\", \n",
    "             \"Exchange\": \"TSEJ\",\n",
    "             \"Pairs\": jpn_adr_underlying_pairs},\n",
    "    \n",
    "    \"HK\":{\"Currency\": \"HKD\", \n",
    "         \"Exchange\": \"SEHK\",\n",
    "         \"Pairs\": hk_adr_underlying_pairs},\n",
    "    \n",
    "}\n",
    "\n",
    "portfolio = {\"USD\":0, \"HKD\": 0, \"AUD\": 0, \"JPY\": 0}\n",
    "for key in country_info:\n",
    "    for p in country_info[key][\"Pairs\"]:\n",
    "        adr = p[0]+\"_adr\"\n",
    "        portfolio[adr] = 0\n",
    "        \n",
    "        under = p[1] + \"_stk\"\n",
    "        portfolio[under] = 0\n",
    "        \n",
    "        \n",
    "\n",
    "class my_order:\n",
    "    def __init__(self, sec_name, order_type, sec_type, total_quantity):\n",
    "        \n",
    "        self.sec_name = sec_name\n",
    "        self.sec_type = sec_type # if foreign currency, put \"\"\n",
    "        self.order_type = order_type # Either \"buy\" or \"sell\"\n",
    "        self.status = \"Pending\"\n",
    "        self.total_quantity = total_quantity\n",
    "\n",
    "        self.filled_quantity = 0\n",
    "        self.avg_filled_price = 0.0\n",
    "\n",
    "def reset_portfolio():\n",
    "    global portfolio:\n",
    "        \n",
    "    for key in country_info:\n",
    "        for p in country_info[key][\"Pairs\"]:\n",
    "            adr = p[0]+\"_adr\"\n",
    "            portfolio[adr] = 0\n",
    "\n",
    "            under = p[1] + \"_stk\"\n",
    "            portfolio[under] = 0\n",
    "\n",
    "        \n",
    "\n",
    "def onOrderStatus(trade): \n",
    "    global order_records, portfolio\n",
    "    print(f\"Update in order {trade.order.orderId}\")\n",
    "#     print(trade.orderStatus.status == 'Cancelled')\n",
    "    #print('order status' + trade.orderStatus.status)\n",
    "    orderId = trade.order.orderId\n",
    "    if trade.orderStatus.status == 'Cancelled':\n",
    "        order_records[orderId].status = \"Cancelled\"\n",
    "        print(\"Order has been cancelled.\")\n",
    "    elif trade.orderStatus.status == \"Filled\":\n",
    "        \n",
    "        change = trade.orderStatus.filled - order_records[orderId].filled_quantity\n",
    "        order_records[orderId].filled_quantity = trade.orderStatus.filled\n",
    "        order_records[orderId].avg_filled_price = trade.orderStatus.avgFillPrice\n",
    "        \n",
    "        sec_type = order_records[orderId].sec_type\n",
    "        sec =  order_records[orderId].sec_name\n",
    "        order_type = order_records[orderId].order_type\n",
    "        if sec_type == 'adr':\n",
    "            if order_records[orderId].order_type == \"buy\":\n",
    "                portfolio[sec + sec_type] += change\n",
    "            else:\n",
    "                portfolio[sec + sec_type] -= change\n",
    "                \n",
    "        elif sec_type == \"underlying\":\n",
    "            if order_records[orderId].order_type == \"buy\":\n",
    "                portfolio[sec + '_stk'] += change\n",
    "            else:\n",
    "                portfolio[sec +  '_stk'] -= change\n",
    "        \n",
    "        \n",
    "        print(f\"{trade.orderStatus.filled} shares of {order_type} {sec} ({sec_type}) has been filled at an average price of {trade.orderStatus.avgFillPrice}\")\n",
    "        if rade.orderStatus.remaining == 0:\n",
    "            order_records[orderId].status = \"Completed\"\n",
    "            print(\"Order is completed!\")\n",
    "            \n",
    "    else:\n",
    "        print(trade.orderStatus.status)\n",
    "    \n",
    "    \n",
    "    \n",
    "\n",
    "def onExecDetails(trade,fill): print('order exec details' + fill.execution)\n",
    "\n",
    "\n",
    "ib.execDetailsEvent+=onExecDetails \n",
    "ib.orderStatusEvent+=onOrderStatus\n",
    "\n",
    "# fut = Future('ES', '20181221', 'GLOBEX') \n",
    "# ib.qualifyContracts(fut) \n",
    "\n",
    "contract = Stock('TSLA', 'SMART', 'USD')\n",
    "ib.qualifyContracts(contract)\n",
    "\n",
    "\n",
    "order =LimitOrder('BUY', 1,1) \n",
    "trade = ib.placeOrder(contract, order) \n",
    "print(trade)\n",
    "order_records[trade.order.orderId] = my_order(\"AAPL\",\"Stock\",\"buy\",1)\n",
    "\n",
    "ib.run()"
   ]
  },
  {
   "cell_type": "code",
   "execution_count": 49,
   "metadata": {},
   "outputs": [
    {
     "data": {
      "text/plain": [
       "<__main__.my_order at 0x7fa36b9ac3d0>"
      ]
     },
     "execution_count": 49,
     "metadata": {},
     "output_type": "execute_result"
    }
   ],
   "source": [
    "order_records[46]"
   ]
  },
  {
   "cell_type": "code",
   "execution_count": 142,
   "metadata": {
    "scrolled": true
   },
   "outputs": [
    {
     "name": "stderr",
     "output_type": "stream",
     "text": [
      "Error 1100, reqId -1: Connectivity between IB and Trader Workstation has been lost.\n",
      "Error 1100, reqId -1: Connectivity between IB and Trader Workstation has been lost.\n",
      "Error 1102, reqId -1: Connectivity between IB and Trader Workstation has been restored - data maintained. All data farms are connected: hfarm; usfarm.nj; jfarm; eufarm; usfuture; cashfarm; usfarm; euhmds; cashhmds; fundfarm; ushmds; secdefil.\n",
      "Error 1102, reqId -1: Connectivity between IB and Trader Workstation has been restored - data maintained. All data farms are connected: hfarm; usfarm.nj; jfarm; eufarm; usfuture; cashfarm; usfarm; euhmds; cashhmds; fundfarm; ushmds; secdefil.\n"
     ]
    }
   ],
   "source": [
    "import os\n",
    "from datetime import datetime\n",
    "def place_order(country, security, sectype, side, quantity, price, market_order = False):\n",
    "    global order_books\n",
    "    exchange = country_info[country][\"Exchange\"]\n",
    "    currenct = country_info[country][\"Currency\"]\n",
    "    \n",
    "    # Define order \n",
    "    contract = Contract(symbol = security, secType = 'STK', exchange =exchange, currency = currency)\n",
    "    if market_order == True:\n",
    "        order =  MarketOrder(side,quantity)\n",
    "    else:\n",
    "        order = LimitOrder(side,quantity,price)\n",
    "    \n",
    "    # Place the order\n",
    "    msg = ib.placeOrder(contract, order)\n",
    "    orderId = msg.order.orderId\n",
    "    \n",
    "    # Add the orderId to orderbook\n",
    "    name =  security +\"_\"+ sectype\n",
    "    order_books[name].add(orderId)\n",
    "    order_records[orderId] = my_order(security, side, sectype, quantity)\n",
    "    \n",
    "\n",
    "def print_order_records():\n",
    "    global order_records\n",
    "    \n",
    "    #sys.__stdout__.write(\"orderId\\tSecurity\\tSecType\\tOrderType\\tStatus\\tTotal\\tFilled\\tAvgPrice\\n\")\n",
    "    print(datetime.now())\n",
    "    print(\"orderId\\tSecurity\\tSecType\\tOrderType\\tStatus\\tTotal\\tFilled\\tAvgPrice\\n\")\n",
    "    for order in order_records:\n",
    "        orderId = order\n",
    "        Security = order_records[order].sec_name\n",
    "        Type = order_records[order].sec_type\n",
    "        Status = order_records[order].status\n",
    "        Total = order_records[order].total_quantity\n",
    "        Filled = order_records[order].filled_quantity\n",
    "        AvgPrice = order_records[order].avg_filled_price\n",
    "        order_type = order_records[order].order_type\n",
    "        sys.__stdout__.write(f\"{orderId}\\t{Security}\\t\\t{Type}\\t{order_type}\\t\\t{Status}\\t{Total}\\t{Filled}\\t{AvgPrice}\\n\")\n",
    "\n",
    "\n",
    "def print_portfolio():\n",
    "    global portfolio\n",
    "    #sys.__stdout__.write(\"Security\\tPosition\\n\")\n",
    "    print(datetime.now())\n",
    "    print(\"Security\\tPosition\\n\")\n",
    "    for key in portfolio:\n",
    "        \n",
    "        if len(key) <= 7:\n",
    "            #sys.__stdout__.write(f\"{key}\\t\\t{portfolio[key]}\\n\")\n",
    "            print(f\"{key}\\t\\t{portfolio[key]}\\n\")\n",
    "        else:\n",
    "            print(f\"{key}\\t{portfolio[key]}\\n\")\n",
    "            #sys.__stdout__.write(f\"{key}\\t{portfolio[key]}\\n\")\n",
    "            \n",
    "\n",
    "    \n",
    "    \n",
    "    \n"
   ]
  },
  {
   "cell_type": "code",
   "execution_count": 147,
   "metadata": {},
   "outputs": [
    {
     "name": "stderr",
     "output_type": "stream",
     "text": [
      "Error 1100, reqId -1: Connectivity between IB and Trader Workstation has been lost.\n",
      "Error 1100, reqId -1: Connectivity between IB and Trader Workstation has been lost.\n",
      "Error 1100, reqId -1: Connectivity between IB and Trader Workstation has been lost.\n",
      "Error 1100, reqId -1: Connectivity between IB and Trader Workstation has been lost.\n",
      "Error 1100, reqId -1: Connectivity between IB and Trader Workstation has been lost.\n",
      "Error 1100, reqId -1: Connectivity between IB and Trader Workstation has been lost.\n",
      "Error 1100, reqId -1: Connectivity between IB and Trader Workstation has been lost.\n",
      "Error 1100, reqId -1: Connectivity between IB and Trader Workstation has been lost.\n",
      "Error 1100, reqId -1: Connectivity between IB and Trader Workstation has been lost.\n",
      "Error 1100, reqId -1: Connectivity between IB and Trader Workstation has been lost.\n",
      "Error 1100, reqId -1: Connectivity between IB and Trader Workstation has been lost.\n",
      "Error 1100, reqId -1: Connectivity between IB and Trader Workstation has been lost.\n",
      "Error 1100, reqId -1: Connectivity between IB and Trader Workstation has been lost.\n",
      "Error 1100, reqId -1: Connectivity between IB and Trader Workstation has been lost.\n",
      "Error 1100, reqId -1: Connectivity between IB and Trader Workstation has been lost.\n",
      "Error 1100, reqId -1: Connectivity between IB and Trader Workstation has been lost.\n",
      "Error 1100, reqId -1: Connectivity between IB and Trader Workstation has been lost.\n",
      "Error 1100, reqId -1: Connectivity between IB and Trader Workstation has been lost.\n",
      "Error 1100, reqId -1: Connectivity between IB and Trader Workstation has been lost.\n",
      "Error 1100, reqId -1: Connectivity between IB and Trader Workstation has been lost.\n",
      "Error 1100, reqId -1: Connectivity between IB and Trader Workstation has been lost.\n",
      "Error 1100, reqId -1: Connectivity between IB and Trader Workstation has been lost.\n",
      "Error 1100, reqId -1: Connectivity between IB and Trader Workstation has been lost.\n",
      "Error 1100, reqId -1: Connectivity between IB and Trader Workstation has been lost.\n",
      "Error 1102, reqId -1: Connectivity between IB and Trader Workstation has been restored - data maintained. All data farms are connected: hfarm; usfarm.nj; jfarm; eufarm; usfuture; cashfarm; usfarm; euhmds; cashhmds; fundfarm; ushmds; secdefil.\n",
      "Error 1102, reqId -1: Connectivity between IB and Trader Workstation has been restored - data maintained. All data farms are connected: hfarm; usfarm.nj; jfarm; eufarm; usfuture; cashfarm; usfarm; euhmds; cashhmds; fundfarm; ushmds; secdefil.\n",
      "Peer closed connection\n",
      "Peer closed connection\n"
     ]
    }
   ],
   "source": [
    "def liquidate():\n",
    "    \"\"\"\n",
    "    Func to liquidate all our current positions\n",
    "    \n",
    "    \"\"\"\n",
    "    \n",
    "    global portfolio\n",
    "    positions = ib.positions()  # A list of positions, according to IB\n",
    "    for position in positions:\n",
    "        action = \"\"\n",
    "        contract = position.contract\n",
    "        if position.position > 0: # Number of active Long positions\n",
    "            action = 'Sell' # to offset the long positions\n",
    "        elif position.position < 0: # Number of active Short positions\n",
    "            action = 'Buy' # to offset the short positions\n",
    "        else:\n",
    "            assert False\n",
    "        totalQuantity = abs(position.position)\n",
    "        order = MarketOrder(action=action, totalQuantity=totalQuantity)\n",
    "        trade = ib.placeOrder(contract, order)\n",
    "        orderId = trade.orderId\n",
    "        security = trade.contract.symbol\n",
    "        sectype = \"\"\n",
    "        if trade.contract.currency == \"USD\": # if usd, we know it is an adr\n",
    "            sectype = \"adr\"\n",
    "        else:\n",
    "            sectype = \"stk\"\n",
    "            \n",
    "\n",
    "            # Add the orderId to orderbook\n",
    "        name =  security +\"_\"+ sectype\n",
    "        order_books[name].add(orderId)\n",
    "        order_records[orderId] = my_order(security, action, sectype, position)\n",
    "\n",
    "\n",
    "        print(f'Flatten Position: {action} {totalQuantity} {contract.localSymbol}')\n",
    "    reset_portfolio()"
   ]
  },
  {
   "cell_type": "code",
   "execution_count": 138,
   "metadata": {
    "scrolled": true
   },
   "outputs": [
    {
     "name": "stdout",
     "output_type": "stream",
     "text": [
      "2021-04-22 20:59:38.518717\n",
      "orderId\tSecurity\tSecType\tOrderType\tStatus\tTotal\tFilled\tAvgPrice\n",
      "\n"
     ]
    },
    {
     "name": "stderr",
     "output_type": "stream",
     "text": [
      "Error 1100, reqId -1: Connectivity between IB and Trader Workstation has been lost.\n",
      "Error 1100, reqId -1: Connectivity between IB and Trader Workstation has been lost.\n",
      "Error 1102, reqId -1: Connectivity between IB and Trader Workstation has been restored - data maintained. All data farms are connected: hfarm; usfarm.nj; jfarm; eufarm; usfuture; cashfarm; usfarm; euhmds; cashhmds; fundfarm; ushmds; secdefil.\n",
      "Error 1102, reqId -1: Connectivity between IB and Trader Workstation has been restored - data maintained. All data farms are connected: hfarm; usfarm.nj; jfarm; eufarm; usfuture; cashfarm; usfarm; euhmds; cashhmds; fundfarm; ushmds; secdefil.\n"
     ]
    }
   ],
   "source": [
    "print_order_records()"
   ]
  }
 ],
 "metadata": {
  "kernelspec": {
   "display_name": "Python 3",
   "language": "python",
   "name": "python3"
  },
  "language_info": {
   "codemirror_mode": {
    "name": "ipython",
    "version": 3
   },
   "file_extension": ".py",
   "mimetype": "text/x-python",
   "name": "python",
   "nbconvert_exporter": "python",
   "pygments_lexer": "ipython3",
   "version": "3.7.6"
  }
 },
 "nbformat": 4,
 "nbformat_minor": 5
}
